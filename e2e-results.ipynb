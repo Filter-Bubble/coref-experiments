{
 "cells": [
  {
   "cell_type": "code",
   "execution_count": 1,
   "metadata": {},
   "outputs": [],
   "source": [
    "%matplotlib inline\n",
    "import matplotlib.pyplot as plt\n",
    "\n",
    "import json\n",
    "import re\n",
    "import os\n",
    "import numpy as np"
   ]
  },
  {
   "cell_type": "code",
   "execution_count": 2,
   "metadata": {},
   "outputs": [],
   "source": [
    "def read_jsonlines(fname):\n",
    "    docs = []\n",
    "    with open(fname) as fin:\n",
    "        for line in fin.readlines():\n",
    "            doc = json.loads(line)\n",
    "            docs.append(doc)\n",
    "    \n",
    "    nr_sentences = [len(doc['sentences']) for doc in docs]\n",
    "    nr_tokens = [len(s) for doc in docs for s in doc['sentences']]\n",
    "    \n",
    "    cl_att = 'predicted_clusters' if 'predicted_clusters' in docs[0].keys() else 'clusters'\n",
    "    cluster_sizes = [len(c) for doc in docs for c in doc[cl_att]] \n",
    "\n",
    "    print('nr of docs:', len(nr_sentences))\n",
    "    print('total nr of sentences: ', np.sum(nr_sentences))\n",
    "    print('total nr of tokens: ', np.sum(nr_tokens))\n",
    "    nr_clusters = len(cluster_sizes)\n",
    "    nr_mentions = np.sum(cluster_sizes)\n",
    "    nr_singletons = np.sum(np.array(cluster_sizes)==1)\n",
    "    print('Nr of mentions: {} = {} singleton + {} non-singleton'.format(\n",
    "        nr_mentions, nr_singletons, nr_mentions-nr_singletons))\n",
    "    print('Nr of clusters: {} = {} singleton + {} non-singleton'.format(\n",
    "        nr_clusters, nr_singletons, nr_clusters-nr_singletons))\n",
    "    \n",
    "    return docs"
   ]
  },
  {
   "cell_type": "code",
   "execution_count": 3,
   "metadata": {
    "scrolled": true
   },
   "outputs": [
    {
     "name": "stdout",
     "output_type": "stream",
     "text": [
      "nr of docs: 103\n",
      "total nr of sentences:  5438\n",
      "total nr of tokens:  85952\n",
      "Nr of mentions: 24960 = 18168 singleton + 6792 non-singleton\n",
      "Nr of clusters: 20041 = 18168 singleton + 1873 non-singleton\n"
     ]
    }
   ],
   "source": [
    "fname = 'dev-exp8.jsonlines'\n",
    "docs = read_jsonlines(fname)"
   ]
  },
  {
   "cell_type": "code",
   "execution_count": 4,
   "metadata": {},
   "outputs": [],
   "source": [
    "cluster_sizes_gold = [len(c) for doc in docs for c in doc['clusters']]\n",
    "cluster_sizes_predicted = [len(c) for doc in docs for c in doc['predicted_clusters']]"
   ]
  },
  {
   "cell_type": "code",
   "execution_count": 5,
   "metadata": {},
   "outputs": [
    {
     "name": "stdout",
     "output_type": "stream",
     "text": [
      "Cluster sizes\n"
     ]
    },
    {
     "data": {
      "image/png": "[encoded data removed]",
      "text/plain": [
       "<Figure size 432x288 with 2 Axes>"
      ]
     },
     "metadata": {
      "needs_background": "light"
     },
     "output_type": "display_data"
    }
   ],
   "source": [
    "print('Cluster sizes')\n",
    "fig, axs = plt.subplots(1, 2, sharey=True, tight_layout=True)\n",
    "axs[0].hist(cluster_sizes_gold, bins=range(30))\n",
    "axs[0].set_title('gold')\n",
    "axs[1].hist(cluster_sizes_predicted, bins=range(30))\n",
    "axs[1].set_title('predicted')\n",
    "plt.show()"
   ]
  },
  {
   "cell_type": "markdown",
   "metadata": {},
   "source": [
    "## Look into one document"
   ]
  },
  {
   "cell_type": "code",
   "execution_count": 6,
   "metadata": {},
   "outputs": [
    {
     "data": {
      "text/plain": [
       "'WR-P-P-I-0000000069'"
      ]
     },
     "execution_count": 6,
     "metadata": {},
     "output_type": "execute_result"
    }
   ],
   "source": [
    "doc = docs[67]\n",
    "doc['doc_key']"
   ]
  },
  {
   "cell_type": "code",
   "execution_count": 7,
   "metadata": {},
   "outputs": [
    {
     "name": "stdout",
     "output_type": "stream",
     "text": [
      "Gold: 26 clusters, 4 non-singleton\n",
      "Predicted: 28 clusters, 4 non-singleton\n"
     ]
    }
   ],
   "source": [
    "clusters_gold_nosing = [cl for cl in doc['clusters'] if len(cl)>1]\n",
    "clusters_predicted_nosing = [cl for cl in doc['predicted_clusters'] if len(cl)>1]\n",
    "print('Gold: {} clusters, {} non-singleton'.format(len(doc['clusters']), len(clusters_gold_nosing)))\n",
    "print('Predicted: {} clusters, {} non-singleton'.format(len(doc['predicted_clusters']), len(clusters_predicted_nosing)))"
   ]
  },
  {
   "cell_type": "code",
   "execution_count": 9,
   "metadata": {},
   "outputs": [
    {
     "data": {
      "text/markdown": [
       "[(0)[(1) <span style='color:red'>Zeven</span>  <span style='color:red'>veehandelaars</span> ] <span style='color:red'>,</span>  <span style='color:red'>verdacht</span>  <span style='color:red'>van</span> [(2) <span style='color:red'>dierenmishandeling</span> ]] <span style='color:red'>,</span>  <span style='color:red'>worden</span>  <span style='color:red'>door</span> [(3) <span style='color:red'>de</span>  <span style='color:red'>correctionele</span>  <span style='color:red'>rechtbank</span>  <span style='color:red'>van</span> [(4) <span style='color:red'>Brussel</span> ]] <span style='color:red'>vrijgesproken</span>  <span style='color:red'>.</span> [(5) <span style='color:red'>Het</span>  <span style='color:red'>Brusselse</span>  <span style='color:red'>parket</span> ] <span style='color:red'>vervolgde</span> [(0) <span style='color:red'>de</span>  <span style='color:red'>veehandelaars</span> ] <span style='color:red'>nadat</span> [(0) <span style='color:red'>ze</span> ] <span style='color:red'>geïdentificeerd</span>  <span style='color:red'>werden</span>  <span style='color:red'>op</span> [(12) <span style='color:red'>beelden</span>  <span style='color:red'>die</span> [(7) <span style='color:red'>de</span>  <span style='color:red'>dierenrechtenorganisaties</span> [(6)[(8) <span style='color:red'>Gaia</span> ] <span style='color:red'>en</span> [(9) <span style='color:red'>Animaux</span>  <span style='color:red'>en</span>  <span style='color:red'>Péril</span> ]]] <span style='color:red'>stiekem</span>  <span style='color:red'>gedraaid</span>  <span style='color:red'>hadden</span>  <span style='color:red'>in</span> [(10) <span style='color:red'>november</span> [(11) <span style='color:red'>2000</span> ]] <span style='color:red'>op</span> [(13) <span style='color:red'>de</span>  <span style='color:red'>veemarkt</span>  <span style='color:red'>van</span> [(14) <span style='color:red'>Anderlecht</span> ]]] <span style='color:red'>.</span> [(12) <span style='color:red'>De</span>  <span style='color:red'>beelden</span> ] <span style='color:red'>ontlokten</span>  <span style='color:red'>toen</span> [(15) <span style='color:red'>een</span>  <span style='color:red'>storm</span>  <span style='color:red'>van</span> [(16) <span style='color:red'>protest</span> ]] <span style='color:red'>bij</span> [(17) <span style='color:red'>de</span>  <span style='color:red'>publieke</span>  <span style='color:red'>opinie</span> ] <span style='color:red'>en</span>  <span style='color:red'>zetten</span> [(5) <span style='color:red'>het</span>  <span style='color:red'>parket</span> ] <span style='color:red'>ertoe</span>  <span style='color:red'>aan</span> [(18) <span style='color:red'>een</span>  <span style='color:red'>onderzoek</span> ] <span style='color:red'>in</span>  <span style='color:red'>te</span>  <span style='color:red'>stellen</span>  <span style='color:red'>.</span> [(19) <span style='color:red'>De</span>  <span style='color:red'>rechter</span> ] <span style='color:red'>oordeelt</span>  <span style='color:red'>vandaag</span>  <span style='color:red'>dat</span> [(12) <span style='color:red'>de</span>  <span style='color:red'>beelden</span> ][(20) <span style='color:red'>een</span>  <span style='color:red'>inbreuk</span>  <span style='color:red'>vormen</span>  <span style='color:red'>op</span> [(21) <span style='color:red'>de</span>  <span style='color:red'>privacywet</span> ]] <span style='color:red'>en</span>  <span style='color:red'>daardoor</span>  <span style='color:red'>een</span>  <span style='color:red'>onrechtmatig</span>  <span style='color:red'>bewijs</span>  <span style='color:red'>zijn</span>  <span style='color:red'>.</span> [(6) <span style='color:red'>Gaia</span> ] <span style='color:red'>tekent</span> [(22) <span style='color:red'>beroep</span> ] <span style='color:red'>aan</span>  <span style='color:red'>tegen</span> [(23) <span style='color:red'>de</span>  <span style='color:red'>uitspraak</span> ] <span style='color:red'>.</span>  <span style='color:red'>(</span>  <span style='color:red'>Zie</span>  <span style='color:red'>ook</span> [(24) <span style='color:red'>pag.</span> [(25) <span style='color:red'>10</span> ]] <span style='color:red'>)</span>  <span style='color:red'></span>"
      ],
      "text/plain": [
       "<IPython.core.display.Markdown object>"
      ]
     },
     "metadata": {},
     "output_type": "display_data"
    }
   ],
   "source": [
    "from IPython.display import Markdown, display\n",
    "\n",
    "def display_color(text, color):\n",
    "    return \"<span style='color:{}'>{}</span>\".format(color, text)\n",
    "\n",
    "tokens = [tok for s in doc['sentences'] for tok in s]\n",
    "marks_gold = [''] * (len(tokens)+1)\n",
    "for i, cl in enumerate(doc['clusters']):\n",
    "    for s,e in cl:\n",
    "        marks_gold[s] += '[({})'.format(i)\n",
    "        marks_gold[e+1] += ']'\n",
    "\n",
    "marked_text_gold = ' '.join([m +' ' + display_color(t, 'red') for m,t in zip(marks_gold, tokens+[''])])\n",
    "display(Markdown(marked_text_gold))"
   ]
  },
  {
   "cell_type": "code",
   "execution_count": 10,
   "metadata": {},
   "outputs": [
    {
     "data": {
      "text/markdown": [
       "[(0)[(1) <span style='color:red'>Zeven</span>  <span style='color:red'>veehandelaars</span> ] <span style='color:red'>,</span> [(0) <span style='color:red'>verdacht</span>  <span style='color:red'>van</span> [(2) <span style='color:red'>dierenmishandeling</span> ]]] <span style='color:red'>,</span>  <span style='color:red'>worden</span>  <span style='color:red'>door</span> [(3) <span style='color:red'>de</span>  <span style='color:red'>correctionele</span>  <span style='color:red'>rechtbank</span>  <span style='color:red'>van</span> [(4) <span style='color:red'>Brussel</span> ]] <span style='color:red'>vrijgesproken</span>  <span style='color:red'>.</span> [(5) <span style='color:red'>Het</span>  <span style='color:red'>Brusselse</span>  <span style='color:red'>parket</span> ] <span style='color:red'>vervolgde</span> [(0) <span style='color:red'>de</span>  <span style='color:red'>veehandelaars</span> ] <span style='color:red'>nadat</span> [(0) <span style='color:red'>ze</span> ] <span style='color:red'>geïdentificeerd</span>  <span style='color:red'>werden</span>  <span style='color:red'>op</span> [(6) <span style='color:red'>beelden</span>  <span style='color:red'>die</span> [(7) <span style='color:red'>de</span>  <span style='color:red'>dierenrechtenorganisaties</span> [(8)[(9)[(10) <span style='color:red'>Gaia</span> ] <span style='color:red'>en</span> [(11) <span style='color:red'>Animaux</span> ]] <span style='color:red'>en</span> [(12) <span style='color:red'>Péril</span> ]]] <span style='color:red'>stiekem</span>  <span style='color:red'>gedraaid</span>  <span style='color:red'>hadden</span>  <span style='color:red'>in</span> [(13) <span style='color:red'>november</span> [(14) <span style='color:red'>2000</span> ]] <span style='color:red'>op</span> [(15) <span style='color:red'>de</span>  <span style='color:red'>veemarkt</span>  <span style='color:red'>van</span> [(16) <span style='color:red'>Anderlecht</span> ]]] <span style='color:red'>.</span> [(6) <span style='color:red'>De</span>  <span style='color:red'>beelden</span> ] <span style='color:red'>ontlokten</span>  <span style='color:red'>toen</span> [(17) <span style='color:red'>een</span>  <span style='color:red'>storm</span>  <span style='color:red'>van</span> [(18) <span style='color:red'>protest</span>  <span style='color:red'>bij</span> [(19) <span style='color:red'>de</span>  <span style='color:red'>publieke</span>  <span style='color:red'>opinie</span> ]]] <span style='color:red'>en</span>  <span style='color:red'>zetten</span> [(5) <span style='color:red'>het</span>  <span style='color:red'>parket</span> ] <span style='color:red'>ertoe</span>  <span style='color:red'>aan</span> [(20) <span style='color:red'>een</span>  <span style='color:red'>onderzoek</span> ] <span style='color:red'>in</span>  <span style='color:red'>te</span>  <span style='color:red'>stellen</span>  <span style='color:red'>.</span> [(21) <span style='color:red'>De</span>  <span style='color:red'>rechter</span> ] <span style='color:red'>oordeelt</span>  <span style='color:red'>vandaag</span>  <span style='color:red'>dat</span> [(6) <span style='color:red'>de</span>  <span style='color:red'>beelden</span> ][(22) <span style='color:red'>een</span>  <span style='color:red'>inbreuk</span>  <span style='color:red'>vormen</span>  <span style='color:red'>op</span> [(23) <span style='color:red'>de</span>  <span style='color:red'>privacywet</span> ]] <span style='color:red'>en</span>  <span style='color:red'>daardoor</span>  <span style='color:red'>een</span>  <span style='color:red'>onrechtmatig</span>  <span style='color:red'>bewijs</span>  <span style='color:red'>zijn</span>  <span style='color:red'>.</span> [(8) <span style='color:red'>Gaia</span> ] <span style='color:red'>tekent</span> [(24) <span style='color:red'>beroep</span> ] <span style='color:red'>aan</span>  <span style='color:red'>tegen</span> [(25) <span style='color:red'>de</span>  <span style='color:red'>uitspraak</span> ] <span style='color:red'>.</span>  <span style='color:red'>(</span>  <span style='color:red'>Zie</span>  <span style='color:red'>ook</span> [(26) <span style='color:red'>pag.</span> [(27) <span style='color:red'>10</span> ]] <span style='color:red'>)</span>  <span style='color:red'></span>"
      ],
      "text/plain": [
       "<IPython.core.display.Markdown object>"
      ]
     },
     "metadata": {},
     "output_type": "display_data"
    }
   ],
   "source": [
    "marks_predicted = [''] * (len(tokens)+1)\n",
    "for i, cl in enumerate(doc['predicted_clusters']):\n",
    "    for s,e in cl:\n",
    "        marks_predicted[s] += '[({})'.format(i)\n",
    "        marks_predicted[e+1] += ']'\n",
    "\n",
    "marked_text_predicted = ' '.join([m +' ' + display_color(t, 'red') for m,t in zip(marks_predicted, tokens+[''])])\n",
    "display(Markdown(marked_text_predicted))"
   ]
  },
  {
   "cell_type": "code",
   "execution_count": 11,
   "metadata": {},
   "outputs": [
    {
     "name": "stdout",
     "output_type": "stream",
     "text": [
      "Key mentions: 32, response mentions: 35\n",
      "Correct identified: 29\n"
     ]
    }
   ],
   "source": [
    "mentions_gold = set([(s,e) for cl in doc['clusters'] for s,e in cl])\n",
    "mentions_predicted = set([(s,e) for cl in doc['predicted_clusters'] for s,e in cl])\n",
    "print('Key mentions: {}, response mentions: {}'.format(len(mentions_gold), len(mentions_predicted)))\n",
    "print('Correct identified: {}'.format(len(mentions_gold.intersection(mentions_predicted))))"
   ]
  },
  {
   "cell_type": "code",
   "execution_count": 12,
   "metadata": {},
   "outputs": [
    {
     "name": "stdout",
     "output_type": "stream",
     "text": [
      "False positives:\n",
      "verdacht van dierenmishandeling\n",
      "Gaia en Animaux\n",
      "Animaux\n",
      "Péril\n",
      "een storm van protest bij de publieke opinie\n",
      "protest bij de publieke opinie\n"
     ]
    }
   ],
   "source": [
    "print('False positives:')\n",
    "for s,e in sorted(mentions_predicted.difference(mentions_gold)):\n",
    "    print(' '.join(tokens[s:e+1]))"
   ]
  },
  {
   "cell_type": "code",
   "execution_count": 13,
   "metadata": {},
   "outputs": [
    {
     "name": "stdout",
     "output_type": "stream",
     "text": [
      "False negatives:\n",
      "Animaux en Péril\n",
      "een storm van protest\n",
      "protest\n"
     ]
    }
   ],
   "source": [
    "print('False negatives:')\n",
    "for s,e in sorted(mentions_gold.difference(mentions_predicted)):\n",
    "    print(' '.join(tokens[s:e+1]))"
   ]
  },
  {
   "cell_type": "code",
   "execution_count": 14,
   "metadata": {},
   "outputs": [
    {
     "name": "stdout",
     "output_type": "stream",
     "text": [
      "Gold:\n",
      "['Zeven veehandelaars', 'de veehandelaars', 'ze']\n",
      "['Het Brusselse parket', 'het parket']\n",
      "['Gaia', 'Gaia']\n",
      "['De beelden', 'beelden die de dierenrechtenorganisaties Gaia en Animaux en Péril stiekem gedraaid hadden in november 2000 op de veemarkt van Anderlecht', 'de beelden']\n",
      "\n",
      "\n",
      "Predicted:\n",
      "['Zeven veehandelaars', 'de veehandelaars', 'verdacht van dierenmishandeling', 'ze']\n",
      "['Het Brusselse parket', 'het parket']\n",
      "['De beelden', 'beelden die de dierenrechtenorganisaties Gaia en Animaux en Péril stiekem gedraaid hadden in november 2000 op de veemarkt van Anderlecht', 'de beelden']\n",
      "['Gaia', 'Gaia']\n"
     ]
    }
   ],
   "source": [
    "print('Gold:')\n",
    "for cl in doc['clusters']:\n",
    "    if len(cl)>1:\n",
    "        print(sorted([' '.join(tokens[s:e+1]) for s,e in cl]))\n",
    "\n",
    "print('\\n')\n",
    "print('Predicted:')\n",
    "for cl in doc['predicted_clusters']:\n",
    "    if len(cl)>1:\n",
    "        print(sorted(([' '.join(tokens[s:e+1]) for s,e in cl])))\n",
    "        "
   ]
  }
 ],
 "metadata": {
  "kernelspec": {
   "display_name": "Python [conda env:filterbubble]",
   "language": "python",
   "name": "conda-env-filterbubble-py"
  },
  "language_info": {
   "codemirror_mode": {
    "name": "ipython",
    "version": 3
   },
   "file_extension": ".py",
   "mimetype": "text/x-python",
   "name": "python",
   "nbconvert_exporter": "python",
   "pygments_lexer": "ipython3",
   "version": "3.7.5"
  }
 },
 "nbformat": 4,
 "nbformat_minor": 2
}
